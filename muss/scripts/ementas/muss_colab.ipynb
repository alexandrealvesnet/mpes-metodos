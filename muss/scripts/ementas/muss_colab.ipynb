{
  "cells": [
    {
      "cell_type": "markdown",
      "metadata": {
        "id": "Vwe1GDU_B2R6"
      },
      "source": [
        "**GERAÇÃO E SIMPLIFICAÇÃO DAS 10.574 EMENTAS DO STF EM AMBIENTE GOOGLE COLAB PRO**\n",
        "\n",
        "A simplificação exige 16GB de RAM ou mais, como o ambiente gratuito do Google Colab disbonibiliza cerca de 12.45GB, ele não atende, dessa forma, para rodar nesse ambiente é necessário ter a assinatura do Colab Pro."
      ]
    },
    {
      "cell_type": "markdown",
      "source": [
        "Montar o drive para ter acesso aos arquivos"
      ],
      "metadata": {
        "id": "Wj00fXGMt6bq"
      }
    },
    {
      "cell_type": "code",
      "execution_count": null,
      "metadata": {
        "id": "SM7sfdyXBzah"
      },
      "outputs": [],
      "source": [
        "from google.colab import drive\n",
        "drive.mount('/content/gdrive')"
      ]
    },
    {
      "cell_type": "markdown",
      "source": [
        "Ir para o diretório do MUSS e instalar as dependências necessárias"
      ],
      "metadata": {
        "id": "YMfoDs4buAyS"
      }
    },
    {
      "cell_type": "code",
      "execution_count": null,
      "metadata": {
        "id": "st4lmdrLCP9U"
      },
      "outputs": [],
      "source": [
        "# Instalação MUSS\n",
        "MUSS_DIR='COLAB_PATH/mpes-experimentos/muss'\n",
        "%cd $MUSS_DIR\n",
        "!pip install -e .\n",
        "!python -m spacy download pt_core_news_md"
      ]
    },
    {
      "cell_type": "markdown",
      "source": [
        "Antes de gerar as ementas editar o arquivo \"run_generate_10574_ementas_stf.py\" e alterar o local PATH das variáveis \"dataset_path\" e \"sentence_path\" para PATH do ambiente Colab\n",
        "\n",
        "**de:**\n",
        "\n",
        "dataset_path = '/home/alexandre/Desenvolvimento/mpes-experimentos/muss/scripts/ementas/exp02/10574_ementas_stf/dataset_10574_ementas_stf.json'\n",
        "\n",
        "sentence_path = '/home/alexandre/Desenvolvimento/mpes-experimentos/muss/scripts/ementas/exp02/10574_ementas_stf/arquivos/'\n",
        "\n",
        "**para:**\n",
        "\n",
        "dataset_path = 'COLAB_PATH/mpes-experimentos/muss/scripts/ementas/exp02/10574_ementas_stf/dataset_10574_ementas_stf.json'\n",
        "\n",
        "sentence_path = 'COLAB_PATH/mpes-experimentos/muss/scripts/ementas/exp02/10574_ementas_stf/arquivos/'\n",
        "\n"
      ],
      "metadata": {
        "id": "hgf_bULJtz70"
      }
    },
    {
      "cell_type": "code",
      "execution_count": null,
      "metadata": {
        "id": "TNlwWUhYA-F8"
      },
      "outputs": [],
      "source": [
        "# Gerar ementas STF\n",
        "!python scripts/ementas/exp02/run_generate_10574_ementas_stf.py"
      ]
    },
    {
      "cell_type": "markdown",
      "source": [
        "Antes da simplificação alterar o local PATH do arquivo \"run_simplify_10574_ementas_stf.py\" para o PATH do ambiente Colab\n",
        "\n",
        "**de:**\n",
        "\n",
        "path = '/home/alexandre/Desenvolvimento/mpes-experimentos/muss/scripts/ementas/exp02/10574_ementas_stf/arquivos/'\n",
        "\n",
        "\n",
        "**para:**\n",
        "\n",
        "path = 'COLAB_PATH/mpes-experimentos/muss/scripts/ementas/exp02/10574_ementas_stf/arquivos/'"
      ],
      "metadata": {
        "id": "OGLxi8sPvPV8"
      }
    },
    {
      "cell_type": "code",
      "execution_count": null,
      "metadata": {
        "id": "1KvFIa_GmLRD"
      },
      "outputs": [],
      "source": [
        "# Simplificação\n",
        "!python scripts/ementas/exp02/run_simplify_10574_ementas_stf.py"
      ]
    },
    {
      "cell_type": "markdown",
      "source": [
        "**Os arquivos serão gerados em:** COLAB_PATH/mpes-experimentos/muss/scripts/ementas/exp02/10574_ementas_stf/arquivos"
      ],
      "metadata": {
        "id": "ROii_yJ4yP2T"
      }
    }
  ],
  "metadata": {
    "colab": {
      "machine_shape": "hm",
      "provenance": []
    },
    "gpuClass": "standard",
    "kernelspec": {
      "display_name": "Python 3",
      "name": "python3"
    },
    "language_info": {
      "name": "python"
    },
    "accelerator": "GPU"
  },
  "nbformat": 4,
  "nbformat_minor": 0
}