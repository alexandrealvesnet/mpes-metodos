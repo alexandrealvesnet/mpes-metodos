{
  "cells": [
    {
      "cell_type": "markdown",
      "metadata": {
        "id": "J0Qjg6vuaHNt"
      },
      "source": [
        "# **EXPERIMENTO 04 - TREINAMENTO DO MODELO UTILIZANDO NEURAL MACHINE TRANSLATOR COM ATTENTION (NMT/ATTENTION) E SIMPIFICAÇÃO DAS EMENTAS DO TRF5 E STF**\n"
      ]
    },
    {
      "cell_type": "markdown",
      "source": [
        "**INSTALAÇÃO DAS DEPENDÊNCIAS**"
      ],
      "metadata": {
        "id": "Bpx5qi6Sv3H3"
      }
    },
    {
      "cell_type": "code",
      "execution_count": null,
      "metadata": {
        "id": "DGFTkuRvzWqc"
      },
      "outputs": [],
      "source": [
        "!pip install \"tensorflow-text>=2.11\"\n",
        "!pip install einops"
      ]
    },
    {
      "cell_type": "code",
      "execution_count": null,
      "metadata": {
        "id": "tnxXKDjq3jEL"
      },
      "outputs": [],
      "source": [
        "import numpy as np\n",
        "\n",
        "import typing\n",
        "from typing import Any, Tuple\n",
        "\n",
        "import einops\n",
        "import matplotlib.pyplot as plt\n",
        "import matplotlib.ticker as ticker\n",
        "\n",
        "import tensorflow as tf\n",
        "import tensorflow_text as tf_text"
      ]
    },
    {
      "cell_type": "markdown",
      "metadata": {
        "id": "gjUROhJfH3ML"
      },
      "source": [
        "\n",
        "**DEFINIÇÃO DO DATASET**"
      ]
    },
    {
      "cell_type": "code",
      "execution_count": null,
      "metadata": {
        "id": "kRVATYOgJs1b",
        "colab": {
          "base_uri": "https://localhost:8080/"
        },
        "outputId": "8f2a2cb0-444b-4b8e-a4ca-b387b9ed44f4"
      },
      "outputs": [
        {
          "output_type": "stream",
          "name": "stdout",
          "text": [
            "Mounted at /content/gdrive\n"
          ]
        }
      ],
      "source": [
        "# Drive\n",
        "from google.colab import drive\n",
        "drive.mount('/content/gdrive', force_remount=True)\n",
        "\n",
        "path = '/content/gdrive/MyDrive/Desenvolvimento/Colab/nmt-attention-exp04/'\n",
        "path_to_file = path + 'dataset_132.879_pares_sentencas_stf.json'"
      ]
    },
    {
      "cell_type": "markdown",
      "source": [
        "**CONFIGURAÇÃO DOS DADOS**"
      ],
      "metadata": {
        "id": "m0X908kHwFtW"
      }
    },
    {
      "cell_type": "code",
      "execution_count": null,
      "metadata": {
        "id": "OHn4Dct23jEm"
      },
      "outputs": [],
      "source": [
        "import json\n",
        "\n",
        "def load_data(path):\n",
        "    data = ''\n",
        "    with open(path_to_file, 'r', encoding='utf8') as f:\n",
        "        data = f.read()\n",
        "\n",
        "    dataJson = json.loads(data)\n",
        "    dataJson = dataJson['data']\n",
        "\n",
        "    list_context = []\n",
        "    list_target = []\n",
        "    for obj in dataJson:\n",
        "      list_context.append(obj['original'])\n",
        "      list_target.append(obj['simples'])\n",
        "\n",
        "    context = np.array(list_context)\n",
        "    target = np.array(list_target)\n",
        "\n",
        "    return target, context\n"
      ]
    },
    {
      "cell_type": "code",
      "execution_count": null,
      "metadata": {
        "id": "cTbSbBz55QtF",
        "colab": {
          "base_uri": "https://localhost:8080/"
        },
        "outputId": "d0e06ea4-82a2-4e5d-b4b5-16c81c5a89c4"
      },
      "outputs": [
        {
          "output_type": "execute_result",
          "data": {
            "text/plain": [
              "132879"
            ]
          },
          "metadata": {},
          "execution_count": 6
        }
      ],
      "source": [
        "target_raw, context_raw = load_data(path_to_file)\n",
        "len(target_raw)"
      ]
    },
    {
      "cell_type": "markdown",
      "metadata": {
        "id": "rgCLkfv5uO3d"
      },
      "source": [
        "**DATASET DE TREINO E TESTE**"
      ]
    },
    {
      "cell_type": "code",
      "execution_count": null,
      "metadata": {
        "id": "3rZFgz69nMPa"
      },
      "outputs": [],
      "source": [
        "BUFFER_SIZE = len(context_raw)\n",
        "BATCH_SIZE = 128 # estava 64\n",
        "\n",
        "is_train = np.random.uniform(size=(len(target_raw),)) < 0.8\n",
        "\n",
        "train_raw = (\n",
        "    tf.data.Dataset\n",
        "    .from_tensor_slices((context_raw[is_train], target_raw[is_train]))\n",
        "    .shuffle(BUFFER_SIZE)\n",
        "    .batch(BATCH_SIZE))\n",
        "val_raw = (\n",
        "    tf.data.Dataset\n",
        "    .from_tensor_slices((context_raw[~is_train], target_raw[~is_train]))\n",
        "    .shuffle(BUFFER_SIZE)\n",
        "    .batch(BATCH_SIZE))"
      ]
    },
    {
      "cell_type": "code",
      "execution_count": null,
      "metadata": {
        "id": "qc6-NK1GtWQt",
        "colab": {
          "base_uri": "https://localhost:8080/"
        },
        "outputId": "d53da4a3-fccc-4927-9aaa-95c054e25274"
      },
      "outputs": [
        {
          "output_type": "stream",
          "name": "stdout",
          "text": [
            "tf.Tensor(\n",
            "[b'(b) A norma do C\\xc3\\xb3digo Penal Portugu\\xc3\\xaas aplic\\xc3\\xa1vel in casu indica que a prescri\\xc3\\xa7\\xc3\\xa3o da pena aplicada ao Extraditando consuma-se em 10 anos, encontrando-se suspensa em raz\\xc3\\xa3o da declara\\xc3\\xa7\\xc3\\xa3o de contum\\xc3\\xa1cia (Art. 120\\xc2\\xba, 1, c, do C\\xc3\\xb3digo Penal Portugu\\xc3\\xaas); (c) O C\\xc3\\xb3digo Penal Brasileiro disp\\xc3\\xb5e que a prescri\\xc3\\xa7\\xc3\\xa3o da pretens\\xc3\\xa3o punitiva deve ser calculada em rela\\xc3\\xa7\\xc3\\xa3o a cada crime, nos termos do art. 119 do C\\xc3\\xb3digo Penal Brasileiro, raz\\xc3\\xa3o pela qual a fra\\xc3\\xa7\\xc3\\xa3o de aumento de pena decorrente da continuidade delitiva n\\xc3\\xa3o influi sob esse \\xc3\\xa2ngulo; (d) Embora n\\xc3\\xa3o seja poss\\xc3\\xadvel identificar o quantum exato oriundo da continuidade delitiva, porquanto a lei portuguesa n\\xc3\\xa3o estabelece fases para a fixa\\xc3\\xa7\\xc3\\xa3o da dosimetria das penas, certo \\xc3\\xa9 que a Justi\\xc3\\xa7a Portuguesa n\\xc3\\xa3o poderia aplicar pena inferior a 2 anos para nenhum dos crimes de burla qualificada pelo qual o Extraditando foi condenado, por ser esta a pena m\\xc3\\xadnima legalmente cominada ao delito pelo C\\xc3\\xb3digo Penal Portugu\\xc3\\xaas (art. 218, 1 e 2, al\\xc3\\xadneas b e c do C\\xc3\\xb3digo Penal portugu\\xc3\\xaas); (e) Consequentemente, mesmo considerada a possibilidade mais favor\\xc3\\xa1vel ao Extraditando, de se ter partido de uma pena de 2 anos, descontada a continuidade delitiva, n\\xc3\\xa3o se consumou a prescri\\xc3\\xa7\\xc3\\xa3o perante o ordenamento jur\\xc3\\xaddico p\\xc3\\xa1trio, pois n\\xc3\\xa3o decorreram 4 anos entre nenhum dos marcos prescricionais verificados in casu.'\n",
            " b'AC\\xc3\\x93RD\\xc3\\x83O RECORRIDO PUBLICADO EM 10.7.2014.'\n",
            " b'2. Risco \\xc3\\xa0 aplica\\xc3\\xa7\\xc3\\xa3o da lei penal caracterizado pelo comportamento processual do paciente que se evadiu do distrito da culpa, mesmo antes da decreta\\xc3\\xa7\\xc3\\xa3o da preventiva, permaneceu foragido por cerca de cinco anos e se refugiou no exterior.'\n",
            " b'3. A viola\\xc3\\xa7\\xc3\\xa3o reflexa e obl\\xc3\\xadqua da Constitui\\xc3\\xa7\\xc3\\xa3o Federal decorrente da necessidade de an\\xc3\\xa1lise de malferimento de dispositivo infraconstitucional torna inadmiss\\xc3\\xadvel o recurso extraordin\\xc3\\xa1rio.'\n",
            " b'Precedentes.'], shape=(5,), dtype=string)\n",
            "\n",
            "tf.Tensor(\n",
            "[b'AUS\\xc3\\x8aNCIA DE PREQUESTIONAMENTO.'\n",
            " b'RELA\\xc3\\x87\\xc3\\x83O COM O DIREITO CIVIL.'\n",
            " b'1. Risco \\xc3\\xa0 aplica\\xc3\\xa7\\xc3\\xa3o da lei penal devido ao comportamento processual do paciente que se evadiu do distrito da culpa, mesmo antes da decreta\\xc3\\xa7\\xc3\\xa3o da preventiva. O paciente permaneceu foragido por cerca de cinco anos e foi encaminhado para o exterior.'\n",
            " b'3. A viola\\xc3\\xa7\\xc3\\xa3o obl\\xc3\\xadqua e reflexa da Constitui\\xc3\\xa7\\xc3\\xa3o Federal, por causa da necessidade de an\\xc3\\xa1lise de malferimento de dispositivo infraconstitucional, torna inadmiss\\xc3\\xadvel o recurso extraordin\\xc3\\xa1rio.'\n",
            " b'Precedentes do processo.'], shape=(5,), dtype=string)\n"
          ]
        }
      ],
      "source": [
        "for example_context_strings, example_target_strings in train_raw.take(1):\n",
        "  print(example_context_strings[:5])\n",
        "  print()\n",
        "  print(example_target_strings[:5])\n",
        "  break"
      ]
    },
    {
      "cell_type": "markdown",
      "metadata": {
        "id": "zCoxLcuN3bwv"
      },
      "source": [
        "**PREPARAÇÃO DOS DADOS**"
      ]
    },
    {
      "cell_type": "code",
      "execution_count": null,
      "metadata": {
        "id": "chTF5N885F0P"
      },
      "outputs": [],
      "source": [
        "def tf_lower_and_split_punct(text):\n",
        "  # Split accented characters.\n",
        "  text = tf_text.normalize_utf8(text, 'NFKD')\n",
        "  text = tf.strings.lower(text)\n",
        "  # Keep space, a to z, and select punctuation.\n",
        "  text = tf.strings.regex_replace(text, '[^ a-z.?!,¿]', '')\n",
        "  # Add spaces around punctuation.\n",
        "  text = tf.strings.regex_replace(text, '[.?!,¿]', r' \\0 ')\n",
        "  # Strip whitespace.\n",
        "  text = tf.strings.strip(text)\n",
        "\n",
        "  text = tf.strings.join(['[START]', text, '[END]'], separator=' ')\n",
        "  return text"
      ]
    },
    {
      "cell_type": "markdown",
      "metadata": {
        "id": "6aKn8qd37abi"
      },
      "source": [
        "**VOCABULÁRIO**"
      ]
    },
    {
      "cell_type": "code",
      "execution_count": null,
      "metadata": {
        "id": "eAY9k49G3jE_"
      },
      "outputs": [],
      "source": [
        "max_vocab_size = 300000\n",
        "\n",
        "context_text_processor = tf.keras.layers.TextVectorization(\n",
        "    standardize=tf_lower_and_split_punct,\n",
        "    max_tokens=max_vocab_size,\n",
        "    ragged=True)"
      ]
    },
    {
      "cell_type": "code",
      "execution_count": null,
      "metadata": {
        "id": "bmsI1Yql8FYe",
        "colab": {
          "base_uri": "https://localhost:8080/"
        },
        "outputId": "d3ad00ab-c873-4d2b-c84f-3713cf2ca4d7"
      },
      "outputs": [
        {
          "output_type": "execute_result",
          "data": {
            "text/plain": [
              "['', '[UNK]', '.', '[START]', '[END]', ',', 'de', 'a', 'da', 'do']"
            ]
          },
          "metadata": {},
          "execution_count": 11
        }
      ],
      "source": [
        "context_text_processor.adapt(train_raw.map(lambda context, target: context))\n",
        "\n",
        "# Here are the first 10 words from the vocabulary:\n",
        "context_text_processor.get_vocabulary()[:10]"
      ]
    },
    {
      "cell_type": "code",
      "execution_count": null,
      "metadata": {
        "id": "jlC4xuZnKLBS",
        "colab": {
          "base_uri": "https://localhost:8080/"
        },
        "outputId": "51333f94-24e9-49dc-cdc5-c7c29b009152"
      },
      "outputs": [
        {
          "output_type": "execute_result",
          "data": {
            "text/plain": [
              "['', '[UNK]', '.', '[START]', '[END]', ',', 'de', 'a', 'da', 'do']"
            ]
          },
          "metadata": {},
          "execution_count": 12
        }
      ],
      "source": [
        "target_text_processor = tf.keras.layers.TextVectorization(\n",
        "    standardize=tf_lower_and_split_punct,\n",
        "    max_tokens=max_vocab_size,\n",
        "    ragged=True)\n",
        "\n",
        "target_text_processor.adapt(train_raw.map(lambda context, target: target))\n",
        "target_text_processor.get_vocabulary()[:10]"
      ]
    },
    {
      "cell_type": "markdown",
      "metadata": {
        "id": "BWQqlP_s9eIv"
      },
      "source": [
        "**CONVERSÃO DE STRING PARA TOKEN ID**"
      ]
    },
    {
      "cell_type": "code",
      "execution_count": null,
      "metadata": {
        "id": "9KZxj8IrNZ9S",
        "colab": {
          "base_uri": "https://localhost:8080/"
        },
        "outputId": "1077bfe5-223b-4965-80d6-d5f376b13386"
      },
      "outputs": [
        {
          "output_type": "execute_result",
          "data": {
            "text/plain": [
              "<tf.RaggedTensor [[3, 314, 7, 259, 9, 98, 39, 4498, 461, 124, 179, 4086, 12, 7, 332, 8, 58,\n",
              "  278, 21, 967, 19421, 15, 244, 5, 8986, 5695, 15, 229, 8, 94, 6, 4119, 20,\n",
              "  2, 10, 5, 5, 457, 5, 9, 98, 39, 4498, 457, 10, 98, 39, 845, 527, 12, 7,\n",
              "  332, 8, 306, 961, 308, 72, 2244, 15, 376, 7, 399, 128, 5, 64, 178, 9, 20,\n",
              "  2, 9, 98, 39, 845, 5, 229, 56, 106, 7, 1723, 6, 808, 6, 58, 496, 8, 1014,\n",
              "  792, 13, 17146, 131, 631, 2820, 536, 608, 13, 243, 514, 5234, 10, 1080,\n",
              "  5540, 7108, 8, 1014, 792, 5, 472, 7, 30, 3173, 13, 1208, 4564, 24, 7, 301,\n",
              "  8, 384, 44, 558, 5, 459, 11, 12, 7, 101, 3173, 13, 769, 1554, 58, 977, 7,\n",
              "  244, 24, 2035, 25, 333, 6, 1336, 2440, 46, 106, 10, 967, 129, 610, 5, 31,\n",
              "  72, 158, 7, 58, 1000, 2838, 2586, 21, 411, 46, 98, 39, 4498, 20, 2, 5, 11,\n",
              "  5, 1284, 314, 11, 457, 9, 98, 39, 4498, 11, 2721, 5, 289, 560, 7, 196,\n",
              "  231, 2068, 21, 967, 5, 6, 19, 506, 3252, 6, 148, 58, 6, 244, 5, 12885, 7,\n",
              "  1014, 792, 5, 13, 19, 5303, 7, 332, 853, 10, 907, 181, 3822, 5, 407, 13,\n",
              "  8147, 244, 159, 2035, 25, 3178, 6558, 5992, 124, 179, 2, 4]               ,\n",
              " [3, 47, 74, 127, 15, 2, 2, 2, 4],\n",
              " [3, 2, 682, 7, 90, 8, 30, 39, 2387, 46, 1254, 73, 9, 138, 12, 19, 18132, 9,\n",
              "  905, 8, 1251, 5, 289, 543, 8, 1052, 8, 345, 5, 3038, 3985, 31, 5042, 6,\n",
              "  834, 244, 11, 19, 15071, 14, 2578, 2, 4]                                  ]>"
            ]
          },
          "metadata": {},
          "execution_count": 13
        }
      ],
      "source": [
        "example_tokens = context_text_processor(example_context_strings)\n",
        "example_tokens[:3, :]"
      ]
    },
    {
      "cell_type": "markdown",
      "metadata": {
        "id": "AA9rUn9G9n78"
      },
      "source": [
        "**CONVERSÃO DE TOKEN ID PARA STRING**"
      ]
    },
    {
      "cell_type": "code",
      "execution_count": null,
      "metadata": {
        "id": "98g9rcxGQY0I",
        "colab": {
          "base_uri": "https://localhost:8080/",
          "height": 105
        },
        "outputId": "51251ea1-b44e-48ad-dfb8-42d005f6f784"
      },
      "outputs": [
        {
          "output_type": "execute_result",
          "data": {
            "text/plain": [
              "'[START] b a norma do codigo penal portugues aplicavel in casu indica que a prescricao da pena aplicada ao extraditando consumase em anos , encontrandose suspensa em razao da declaracao de contumacia art . o , , c , do codigo penal portugues c o codigo penal brasileiro dispoe que a prescricao da pretensao punitiva deve ser calculada em relacao a cada crime , nos termos do art . do codigo penal brasileiro , razao pela qual a fracao de aumento de pena decorrente da continuidade delitiva nao influi sob esse angulo d embora nao seja possivel identificar o quantum exato oriundo da continuidade delitiva , porquanto a lei portuguesa nao estabelece fases para a fixacao da dosimetria das penas , certo e que a justica portuguesa nao poderia aplicar pena inferior a anos para nenhum dos crimes de burla qualificada pelo qual o extraditando foi condenado , por ser esta a pena minima legalmente cominada ao delito pelo codigo penal portugues art . , e , alineas b e c do codigo penal portugues e consequentemente , mesmo considerada a possibilidade mais favoravel ao extraditando , de se ter partido de uma pena de anos , descontada a continuidade delitiva , nao se consumou a prescricao perante o ordenamento juridico patrio , pois nao decorreram anos entre nenhum dos marcos prescricionais verificados in casu . [END]'"
            ],
            "application/vnd.google.colaboratory.intrinsic+json": {
              "type": "string"
            }
          },
          "metadata": {},
          "execution_count": 14
        }
      ],
      "source": [
        "context_vocab = np.array(context_text_processor.get_vocabulary())\n",
        "tokens = context_vocab[example_tokens[0].numpy()]\n",
        "' '.join(tokens)"
      ]
    },
    {
      "cell_type": "code",
      "execution_count": null,
      "metadata": {
        "id": "_jx4Or_eFRSz",
        "colab": {
          "base_uri": "https://localhost:8080/",
          "height": 469
        },
        "outputId": "09abe77b-bcce-4c7f-ed79-d7efffd9dcc0"
      },
      "outputs": [
        {
          "output_type": "execute_result",
          "data": {
            "text/plain": [
              "Text(0.5, 1.0, 'Mask')"
            ]
          },
          "metadata": {},
          "execution_count": 15
        },
        {
          "output_type": "display_data",
          "data": {
            "text/plain": [
              "<Figure size 640x480 with 2 Axes>"
            ],
            "image/png": "[encoded data removed]"
          },
          "metadata": {}
        }
      ],
      "source": [
        "plt.subplot(1, 2, 1)\n",
        "plt.pcolormesh(example_tokens.to_tensor())\n",
        "plt.title('Token IDs')\n",
        "\n",
        "plt.subplot(1, 2, 2)\n",
        "plt.pcolormesh(example_tokens.to_tensor() != 0)\n",
        "plt.title('Mask')"
      ]
    },
    {
      "cell_type": "markdown",
      "metadata": {
        "id": "3O0B4XdFlRgc"
      },
      "source": [
        "**PROCESSAMENTO DO DATASET**\n",
        "\n"
      ]
    },
    {
      "cell_type": "code",
      "execution_count": null,
      "metadata": {
        "id": "wk5tbZWQl5u1"
      },
      "outputs": [],
      "source": [
        "def process_text(context, target):\n",
        "  context = context_text_processor(context).to_tensor()\n",
        "  target = target_text_processor(target)\n",
        "  targ_in = target[:,:-1].to_tensor()\n",
        "  targ_out = target[:,1:].to_tensor()\n",
        "  return (context, targ_in), targ_out\n",
        "\n",
        "\n",
        "train_ds = train_raw.map(process_text, tf.data.AUTOTUNE)\n",
        "val_ds = val_raw.map(process_text, tf.data.AUTOTUNE)"
      ]
    },
    {
      "cell_type": "code",
      "execution_count": null,
      "metadata": {
        "id": "woQBWAjLsJkr",
        "colab": {
          "base_uri": "https://localhost:8080/"
        },
        "outputId": "a653b161-bcbf-4a77-d8d9-b12a2f30f5de"
      },
      "outputs": [
        {
          "output_type": "stream",
          "name": "stdout",
          "text": [
            "[  3 347  63   9 118   2   4   0   0   0]\n",
            "\n",
            "[  3 153 245   9 120   2   0   0   0   0]\n",
            "[153 245   9 120   2   4   0   0   0   0]\n"
          ]
        }
      ],
      "source": [
        "for (ex_context_tok, ex_tar_in), ex_tar_out in train_ds.take(1):\n",
        "  print(ex_context_tok[0, :10].numpy()) \n",
        "  print()\n",
        "  print(ex_tar_in[0, :10].numpy()) \n",
        "  print(ex_tar_out[0, :10].numpy()) "
      ]
    },
    {
      "cell_type": "code",
      "execution_count": null,
      "metadata": {
        "id": "_a9uNz3-IrF-"
      },
      "outputs": [],
      "source": [
        "UNITS = 512 # 256"
      ]
    },
    {
      "cell_type": "markdown",
      "source": [
        "**ENCODER**"
      ],
      "metadata": {
        "id": "AnhthxVSxcCN"
      }
    },
    {
      "cell_type": "code",
      "execution_count": null,
      "metadata": {
        "id": "KqFqKi4fqN9X"
      },
      "outputs": [],
      "source": [
        "#@title\n",
        "class ShapeChecker():\n",
        "  def __init__(self):\n",
        "    # Keep a cache of every axis-name seen\n",
        "    self.shapes = {}\n",
        "\n",
        "  def __call__(self, tensor, names, broadcast=False):\n",
        "    if not tf.executing_eagerly():\n",
        "      return\n",
        "\n",
        "    parsed = einops.parse_shape(tensor, names)\n",
        "\n",
        "    for name, new_dim in parsed.items():\n",
        "      old_dim = self.shapes.get(name, None)\n",
        "      \n",
        "      if (broadcast and new_dim == 1):\n",
        "        continue\n",
        "\n",
        "      if old_dim is None:\n",
        "        # If the axis name is new, add its length to the cache.\n",
        "        self.shapes[name] = new_dim\n",
        "        continue\n",
        "\n",
        "      if new_dim != old_dim:\n",
        "        raise ValueError(f\"Shape mismatch for dimension: '{name}'\\n\"\n",
        "                         f\"    found: {new_dim}\\n\"\n",
        "                         f\"    expected: {old_dim}\\n\")"
      ]
    },
    {
      "cell_type": "code",
      "execution_count": null,
      "metadata": {
        "id": "nZ2rI24i3jFg"
      },
      "outputs": [],
      "source": [
        "class Encoder(tf.keras.layers.Layer):\n",
        "  def __init__(self, text_processor, units):\n",
        "    super(Encoder, self).__init__()\n",
        "    self.text_processor = text_processor\n",
        "    self.vocab_size = text_processor.vocabulary_size()\n",
        "    self.units = units\n",
        "    \n",
        "    # The embedding layer converts tokens to vectors\n",
        "    self.embedding = tf.keras.layers.Embedding(self.vocab_size, units,\n",
        "                                               mask_zero=True)\n",
        "\n",
        "    # The RNN layer processes those vectors sequentially.\n",
        "    self.rnn = tf.keras.layers.Bidirectional(\n",
        "        merge_mode='sum',\n",
        "        layer=tf.keras.layers.GRU(units,\n",
        "                            # Return the sequence and state\n",
        "                            return_sequences=True,\n",
        "                            recurrent_initializer='glorot_uniform'))\n",
        "\n",
        "  def call(self, x):\n",
        "    shape_checker = ShapeChecker()\n",
        "    shape_checker(x, 'batch s')\n",
        "\n",
        "    # 2. The embedding layer looks up the embedding vector for each token.\n",
        "    x = self.embedding(x)\n",
        "    shape_checker(x, 'batch s units')\n",
        "\n",
        "    # 3. The GRU processes the sequence of embeddings.\n",
        "    x = self.rnn(x)\n",
        "    shape_checker(x, 'batch s units')\n",
        "\n",
        "    # 4. Returns the new sequence of embeddings.\n",
        "    return x\n",
        "\n",
        "  def convert_input(self, texts):\n",
        "    texts = tf.convert_to_tensor(texts)\n",
        "    if len(texts.shape) == 0:\n",
        "      texts = tf.convert_to_tensor(texts)[tf.newaxis]\n",
        "    context = self.text_processor(texts).to_tensor()\n",
        "    context = self(context)\n",
        "    return context"
      ]
    },
    {
      "cell_type": "code",
      "execution_count": null,
      "metadata": {
        "id": "60gSVh05Jl6l",
        "colab": {
          "base_uri": "https://localhost:8080/"
        },
        "outputId": "93b76049-dbbf-4599-98d9-39285c117599"
      },
      "outputs": [
        {
          "output_type": "stream",
          "name": "stdout",
          "text": [
            "Context tokens, shape (batch, s): (128, 144)\n",
            "Encoder output, shape (batch, s, units): (128, 144, 512)\n"
          ]
        }
      ],
      "source": [
        "# Encode the input sequence.\n",
        "encoder = Encoder(context_text_processor, UNITS)\n",
        "ex_context = encoder(ex_context_tok)\n",
        "\n",
        "print(f'Context tokens, shape (batch, s): {ex_context_tok.shape}')\n",
        "print(f'Encoder output, shape (batch, s, units): {ex_context.shape}')"
      ]
    },
    {
      "cell_type": "code",
      "execution_count": null,
      "metadata": {
        "id": "-Ql3ymqwD8LS"
      },
      "outputs": [],
      "source": [
        "class CrossAttention(tf.keras.layers.Layer):\n",
        "  def __init__(self, units, **kwargs):\n",
        "    super().__init__()\n",
        "    self.mha = tf.keras.layers.MultiHeadAttention(key_dim=units, num_heads=1, **kwargs)\n",
        "    self.layernorm = tf.keras.layers.LayerNormalization()\n",
        "    self.add = tf.keras.layers.Add()\n",
        "\n",
        "  def call(self, x, context):\n",
        "    shape_checker = ShapeChecker()\n",
        " \n",
        "    shape_checker(x, 'batch t units')\n",
        "    shape_checker(context, 'batch s units')\n",
        "\n",
        "    attn_output, attn_scores = self.mha(\n",
        "        query=x,\n",
        "        value=context,\n",
        "        return_attention_scores=True)\n",
        "    \n",
        "    shape_checker(x, 'batch t units')\n",
        "    shape_checker(attn_scores, 'batch heads t s')\n",
        "    \n",
        "    # Cache the attention scores for plotting later.\n",
        "    attn_scores = tf.reduce_mean(attn_scores, axis=1)\n",
        "    shape_checker(attn_scores, 'batch t s')\n",
        "    self.last_attention_weights = attn_scores\n",
        "\n",
        "    x = self.add([x, attn_output])\n",
        "    x = self.layernorm(x)\n",
        "\n",
        "    return x"
      ]
    },
    {
      "cell_type": "code",
      "execution_count": null,
      "metadata": {
        "id": "7y7hjPkNMmHh",
        "colab": {
          "base_uri": "https://localhost:8080/"
        },
        "outputId": "dbaedfd4-029c-45ab-a5ab-bfafa25ae410"
      },
      "outputs": [
        {
          "output_type": "stream",
          "name": "stdout",
          "text": [
            "Context sequence, shape (batch, s, units): (128, 144, 512)\n",
            "Target sequence, shape (batch, t, units): (128, 83, 512)\n",
            "Attention result, shape (batch, t, units): (128, 83, 512)\n",
            "Attention weights, shape (batch, t, s):    (128, 83, 144)\n"
          ]
        }
      ],
      "source": [
        "attention_layer = CrossAttention(UNITS)\n",
        "\n",
        "# Attend to the encoded tokens\n",
        "embed = tf.keras.layers.Embedding(target_text_processor.vocabulary_size(),\n",
        "                                  output_dim=UNITS, mask_zero=True)\n",
        "ex_tar_embed = embed(ex_tar_in)\n",
        "\n",
        "result = attention_layer(ex_tar_embed, ex_context)\n",
        "\n",
        "print(f'Context sequence, shape (batch, s, units): {ex_context.shape}')\n",
        "print(f'Target sequence, shape (batch, t, units): {ex_tar_embed.shape}')\n",
        "print(f'Attention result, shape (batch, t, units): {result.shape}')\n",
        "print(f'Attention weights, shape (batch, t, s):    {attention_layer.last_attention_weights.shape}')"
      ]
    },
    {
      "cell_type": "code",
      "execution_count": null,
      "metadata": {
        "id": "zxyR7cmQPn9P",
        "colab": {
          "base_uri": "https://localhost:8080/"
        },
        "outputId": "c834a247-9ddb-4d70-aa94-ba38ef5805a8"
      },
      "outputs": [
        {
          "output_type": "execute_result",
          "data": {
            "text/plain": [
              "array([1., 1., 1., 1., 1., 1., 1., 1., 1., 1., 1., 1., 1., 1., 1., 1., 1.,\n",
              "       1., 1., 1., 1., 1., 1., 1., 1., 1., 1., 1., 1., 1., 1., 1., 1., 1.,\n",
              "       1., 1., 1., 1., 1., 1., 1., 1., 1., 1., 1., 1., 1., 1., 1., 1., 1.,\n",
              "       1., 1., 1., 1., 1., 1., 1., 1., 1., 1., 1., 1., 1., 1., 1., 1., 1.,\n",
              "       1., 1., 1., 1., 1., 1., 1., 1., 1., 1., 1., 1., 1., 1., 1.],\n",
              "      dtype=float32)"
            ]
          },
          "metadata": {},
          "execution_count": 23
        }
      ],
      "source": [
        "attention_layer.last_attention_weights[0].numpy().sum(axis=-1)"
      ]
    },
    {
      "cell_type": "code",
      "execution_count": null,
      "metadata": {
        "id": "Rqr8XGsAJlf6",
        "colab": {
          "base_uri": "https://localhost:8080/",
          "height": 452
        },
        "outputId": "eae8b632-53f9-4295-cc76-22b3af6dc01b"
      },
      "outputs": [
        {
          "output_type": "display_data",
          "data": {
            "text/plain": [
              "<Figure size 640x480 with 2 Axes>"
            ],
            "image/png": "[encoded data removed]"
          },
          "metadata": {}
        }
      ],
      "source": [
        "attention_weights = attention_layer.last_attention_weights\n",
        "mask=(ex_context_tok != 0).numpy()\n",
        "\n",
        "plt.subplot(1, 2, 1)\n",
        "plt.pcolormesh(mask*attention_weights[:, 0, :])\n",
        "plt.title('Attention weights')\n",
        "\n",
        "plt.subplot(1, 2, 2)\n",
        "plt.pcolormesh(mask)\n",
        "plt.title('Mask');\n"
      ]
    },
    {
      "cell_type": "markdown",
      "source": [
        "**DECODER**"
      ],
      "metadata": {
        "id": "lw0xR-pHxk4N"
      }
    },
    {
      "cell_type": "code",
      "execution_count": null,
      "metadata": {
        "id": "erYvHIgAl8kh"
      },
      "outputs": [],
      "source": [
        "class Decoder(tf.keras.layers.Layer):\n",
        "  @classmethod\n",
        "  def add_method(cls, fun):\n",
        "    setattr(cls, fun.__name__, fun)\n",
        "    return fun\n",
        "\n",
        "  def __init__(self, text_processor, units):\n",
        "    super(Decoder, self).__init__()\n",
        "    self.text_processor = text_processor\n",
        "    self.vocab_size = text_processor.vocabulary_size()\n",
        "    self.word_to_id = tf.keras.layers.StringLookup(\n",
        "        vocabulary=text_processor.get_vocabulary(),\n",
        "        mask_token='', oov_token='[UNK]')\n",
        "    self.id_to_word = tf.keras.layers.StringLookup(\n",
        "        vocabulary=text_processor.get_vocabulary(),\n",
        "        mask_token='', oov_token='[UNK]',\n",
        "        invert=True)\n",
        "    self.start_token = self.word_to_id('[START]')\n",
        "    self.end_token = self.word_to_id('[END]')\n",
        "\n",
        "    self.units = units\n",
        "\n",
        "\n",
        "    # 1. The embedding layer converts token IDs to vectors\n",
        "    self.embedding = tf.keras.layers.Embedding(self.vocab_size,\n",
        "                                               units, mask_zero=True)\n",
        "\n",
        "    # 2. The RNN keeps track of what's been generated so far.\n",
        "    self.rnn = tf.keras.layers.GRU(units,\n",
        "                                   return_sequences=True,\n",
        "                                   return_state=True,\n",
        "                                   recurrent_initializer='glorot_uniform')\n",
        "\n",
        "    # 3. The RNN output will be the query for the attention layer.\n",
        "    self.attention = CrossAttention(units)\n",
        "\n",
        "    # 4. This fully connected layer produces the logits for each\n",
        "    # output token.\n",
        "    self.output_layer = tf.keras.layers.Dense(self.vocab_size)"
      ]
    },
    {
      "cell_type": "markdown",
      "metadata": {
        "id": "Sd8-nRNzFR8x"
      },
      "source": [
        "**ENCODER/DECODER**"
      ]
    },
    {
      "cell_type": "code",
      "execution_count": null,
      "metadata": {
        "id": "PJOi5btHAPNK"
      },
      "outputs": [],
      "source": [
        "@Decoder.add_method\n",
        "def call(self,\n",
        "         context, x,\n",
        "         state=None,\n",
        "         return_state=False):  \n",
        "  shape_checker = ShapeChecker()\n",
        "  shape_checker(x, 'batch t')\n",
        "  shape_checker(context, 'batch s units')\n",
        "\n",
        "  # 1. Lookup the embeddings\n",
        "  x = self.embedding(x)\n",
        "  shape_checker(x, 'batch t units')\n",
        "\n",
        "  # 2. Process the target sequence.\n",
        "  x, state = self.rnn(x, initial_state=state)\n",
        "  shape_checker(x, 'batch t units')\n",
        "\n",
        "  # 3. Use the RNN output as the query for the attention over the context.\n",
        "  x = self.attention(x, context)\n",
        "  self.last_attention_weights = self.attention.last_attention_weights\n",
        "  shape_checker(x, 'batch t units')\n",
        "  shape_checker(self.last_attention_weights, 'batch t s')\n",
        "\n",
        "  # Step 4. Generate logit predictions for the next token.\n",
        "  logits = self.output_layer(x)\n",
        "  shape_checker(logits, 'batch t target_vocab_size')\n",
        "\n",
        "  if return_state:\n",
        "    return logits, state\n",
        "  else:\n",
        "    return logits"
      ]
    },
    {
      "cell_type": "code",
      "execution_count": null,
      "metadata": {
        "id": "4ZUMbYXIEVeA"
      },
      "outputs": [],
      "source": [
        "decoder = Decoder(target_text_processor, UNITS)"
      ]
    },
    {
      "cell_type": "code",
      "execution_count": null,
      "metadata": {
        "id": "5YM-lD7bzx18",
        "colab": {
          "base_uri": "https://localhost:8080/"
        },
        "outputId": "7a23d122-e7d7-436d-9f93-7c4e19cb0f8f"
      },
      "outputs": [
        {
          "output_type": "stream",
          "name": "stdout",
          "text": [
            "encoder output shape: (batch, s, units) (128, 144, 512)\n",
            "input target tokens shape: (batch, t) (128, 83)\n",
            "logits shape shape: (batch, target_vocabulary_size) (128, 83, 20203)\n"
          ]
        }
      ],
      "source": [
        "logits = decoder(ex_context, ex_tar_in)\n",
        "\n",
        "print(f'encoder output shape: (batch, s, units) {ex_context.shape}')\n",
        "print(f'input target tokens shape: (batch, t) {ex_tar_in.shape}')\n",
        "print(f'logits shape shape: (batch, target_vocabulary_size) {logits.shape}')"
      ]
    },
    {
      "cell_type": "code",
      "execution_count": null,
      "metadata": {
        "id": "SPm12cnIVRQr"
      },
      "outputs": [],
      "source": [
        "@Decoder.add_method\n",
        "def get_initial_state(self, context):\n",
        "  batch_size = tf.shape(context)[0]\n",
        "  start_tokens = tf.fill([batch_size, 1], self.start_token)\n",
        "  done = tf.zeros([batch_size, 1], dtype=tf.bool)\n",
        "  embedded = self.embedding(start_tokens)\n",
        "  return start_tokens, done, self.rnn.get_initial_state(embedded)[0]"
      ]
    },
    {
      "cell_type": "code",
      "execution_count": null,
      "metadata": {
        "id": "TzeOhpBvVS5L"
      },
      "outputs": [],
      "source": [
        "@Decoder.add_method\n",
        "def tokens_to_text(self, tokens):\n",
        "  words = self.id_to_word(tokens)\n",
        "  result = tf.strings.reduce_join(words, axis=-1, separator=' ')\n",
        "  result = tf.strings.regex_replace(result, '^ *\\[START\\] *', '')\n",
        "  result = tf.strings.regex_replace(result, ' *\\[END\\] *$', '')\n",
        "  return result"
      ]
    },
    {
      "cell_type": "code",
      "execution_count": null,
      "metadata": {
        "id": "v6ildnz_V1MA"
      },
      "outputs": [],
      "source": [
        "@Decoder.add_method\n",
        "def get_next_token(self, context, next_token, done, state, temperature = 0.0):\n",
        "  logits, state = self(\n",
        "    context, next_token,\n",
        "    state = state,\n",
        "    return_state=True) \n",
        "  \n",
        "  if temperature == 0.0:\n",
        "    next_token = tf.argmax(logits, axis=-1)\n",
        "  else:\n",
        "    logits = logits[:, -1, :]/temperature\n",
        "    next_token = tf.random.categorical(logits, num_samples=1)\n",
        "\n",
        "  # If a sequence produces an `end_token`, set it `done`\n",
        "  done = done | (next_token == self.end_token)\n",
        "  # Once a sequence is done it only produces 0-padding.\n",
        "  next_token = tf.where(done, tf.constant(0, dtype=tf.int64), next_token)\n",
        "  \n",
        "  return next_token, done, state"
      ]
    },
    {
      "cell_type": "code",
      "execution_count": null,
      "metadata": {
        "id": "SuehagxL-JBZ",
        "colab": {
          "base_uri": "https://localhost:8080/"
        },
        "outputId": "b7970751-dc8f-4483-b9f7-416350bee891"
      },
      "outputs": [
        {
          "output_type": "execute_result",
          "data": {
            "text/plain": [
              "array([b'san mulher maritimo petroleo impossibilita tablita concluido especiais vencedor forem',\n",
              "       b'saido prestadores deixam mostram paridade passa veicula alicerca y cerceia',\n",
              "       b'publicada jurados eleitoras valoriza exservidor consequente cultivaveis trabalhar horaria institucionalizada'],\n",
              "      dtype=object)"
            ]
          },
          "metadata": {},
          "execution_count": 32
        }
      ],
      "source": [
        "# Setup the loop variables.\n",
        "next_token, done, state = decoder.get_initial_state(ex_context)\n",
        "tokens = []\n",
        "\n",
        "for n in range(10):\n",
        "  # Run one step.\n",
        "  next_token, done, state = decoder.get_next_token(\n",
        "      ex_context, next_token, done, state, temperature=1.0)\n",
        "  # Add the token to the output.\n",
        "  tokens.append(next_token)\n",
        "\n",
        "# Stack all the tokens together.\n",
        "tokens = tf.concat(tokens, axis=-1) # (batch, t)\n",
        "\n",
        "# Convert the tokens back to a a string\n",
        "result = decoder.tokens_to_text(tokens)\n",
        "result[:3].numpy()"
      ]
    },
    {
      "cell_type": "markdown",
      "metadata": {
        "id": "B6xyru86m914"
      },
      "source": [
        "**CLASSE DE TRADUÇÃO \"ORIGINAL => SIMPLIFICADO\" CONFORME TREINAMENTO DO MODELO**"
      ]
    },
    {
      "cell_type": "code",
      "execution_count": null,
      "metadata": {
        "id": "WWIyuy71TkJT"
      },
      "outputs": [],
      "source": [
        "class Translator(tf.keras.Model):\n",
        "  @classmethod\n",
        "  def add_method(cls, fun):\n",
        "    setattr(cls, fun.__name__, fun)\n",
        "    return fun\n",
        "\n",
        "  def __init__(self, units,\n",
        "               context_text_processor,\n",
        "               target_text_processor):\n",
        "    super().__init__()\n",
        "    # Build the encoder and decoder\n",
        "    encoder = Encoder(context_text_processor, units)\n",
        "    decoder = Decoder(target_text_processor, units)\n",
        "\n",
        "    self.encoder = encoder\n",
        "    self.decoder = decoder\n",
        "\n",
        "  def call(self, inputs):\n",
        "    context, x = inputs\n",
        "    context = self.encoder(context)\n",
        "    logits = self.decoder(context, x)\n",
        "\n",
        "    #TODO(b/250038731): remove this\n",
        "    try:\n",
        "      # Delete the keras mask, so keras doesn't scale the loss+accuracy. \n",
        "      del logits._keras_mask\n",
        "    except AttributeError:\n",
        "      pass\n",
        "\n",
        "    return logits"
      ]
    },
    {
      "cell_type": "code",
      "execution_count": null,
      "metadata": {
        "id": "8vhjTh84K6Mg",
        "colab": {
          "base_uri": "https://localhost:8080/"
        },
        "outputId": "91b50760-ade4-4600-fa15-e7b7a24ffc82"
      },
      "outputs": [
        {
          "output_type": "stream",
          "name": "stdout",
          "text": [
            "Context tokens, shape: (batch, s, units) (128, 144)\n",
            "Target tokens, shape: (batch, t) (128, 83)\n",
            "logits, shape: (batch, t, target_vocabulary_size) (128, 83, 20203)\n"
          ]
        }
      ],
      "source": [
        "model = Translator(UNITS, context_text_processor, target_text_processor)\n",
        "\n",
        "logits = model((ex_context_tok, ex_tar_in))\n",
        "\n",
        "print(f'Context tokens, shape: (batch, s, units) {ex_context_tok.shape}')\n",
        "print(f'Target tokens, shape: (batch, t) {ex_tar_in.shape}')\n",
        "print(f'logits, shape: (batch, t, target_vocabulary_size) {logits.shape}')"
      ]
    },
    {
      "cell_type": "code",
      "execution_count": null,
      "metadata": {
        "id": "WmTHr5iV3jFr"
      },
      "outputs": [],
      "source": [
        "def masked_loss(y_true, y_pred):\n",
        "    # Calculate the loss for each item in the batch.\n",
        "    loss_fn = tf.keras.losses.SparseCategoricalCrossentropy(\n",
        "        from_logits=True, reduction='none')\n",
        "    loss = loss_fn(y_true, y_pred)\n",
        "\n",
        "    # Mask off the losses on padding.\n",
        "    mask = tf.cast(y_true != 0, loss.dtype)\n",
        "    loss *= mask\n",
        "\n",
        "    # Return the total.\n",
        "    return tf.reduce_sum(loss)/tf.reduce_sum(mask)"
      ]
    },
    {
      "cell_type": "code",
      "execution_count": null,
      "metadata": {
        "id": "nRB1CTmQWOIL"
      },
      "outputs": [],
      "source": [
        "def masked_acc(y_true, y_pred):\n",
        "    # Calculate the loss for each item in the batch.\n",
        "    y_pred = tf.argmax(y_pred, axis=-1)\n",
        "    y_pred = tf.cast(y_pred, y_true.dtype)\n",
        "    \n",
        "    match = tf.cast(y_true == y_pred, tf.float32)\n",
        "    mask = tf.cast(y_true != 0, tf.float32)\n",
        "    \n",
        "    return tf.reduce_sum(match)/tf.reduce_sum(mask)"
      ]
    },
    {
      "cell_type": "markdown",
      "metadata": {
        "id": "f32GuAhw2nXm"
      },
      "source": [
        "**TREINAMENTO DO MODELO**"
      ]
    },
    {
      "cell_type": "code",
      "execution_count": null,
      "metadata": {
        "id": "9g0DRRvm3l9X"
      },
      "outputs": [],
      "source": [
        "model.compile(optimizer='adam',\n",
        "              loss=masked_loss, \n",
        "              metrics=[masked_acc, masked_loss])"
      ]
    },
    {
      "cell_type": "code",
      "execution_count": null,
      "metadata": {
        "id": "BuP3_LFENMJG",
        "colab": {
          "base_uri": "https://localhost:8080/"
        },
        "outputId": "6d731a39-65e5-47d8-b2ac-be085871f93b"
      },
      "outputs": [
        {
          "output_type": "execute_result",
          "data": {
            "text/plain": [
              "{'expected_loss': 9.913587, 'expected_acc': 4.949759936643073e-05}"
            ]
          },
          "metadata": {},
          "execution_count": 38
        }
      ],
      "source": [
        "vocab_size = 1.0 * target_text_processor.vocabulary_size()\n",
        "\n",
        "{\"expected_loss\": tf.math.log(vocab_size).numpy(),\n",
        " \"expected_acc\": 1/vocab_size}"
      ]
    },
    {
      "cell_type": "code",
      "execution_count": null,
      "metadata": {
        "id": "8rJITfxEsHKR",
        "colab": {
          "base_uri": "https://localhost:8080/"
        },
        "outputId": "072c60fe-8b93-4af2-b7c6-20f188e80bba"
      },
      "outputs": [
        {
          "output_type": "stream",
          "name": "stdout",
          "text": [
            "20/20 [==============================] - 11s 184ms/step - loss: 9.9156 - masked_acc: 8.2105e-05 - masked_loss: 9.9156\n"
          ]
        },
        {
          "output_type": "execute_result",
          "data": {
            "text/plain": [
              "{'loss': 9.915570259094238,\n",
              " 'masked_acc': 8.210462692659348e-05,\n",
              " 'masked_loss': 9.915570259094238}"
            ]
          },
          "metadata": {},
          "execution_count": 39
        }
      ],
      "source": [
        "model.evaluate(val_ds, steps=20, return_dict=True)"
      ]
    },
    {
      "cell_type": "code",
      "execution_count": null,
      "metadata": {
        "id": "BQd_esVVoSf3",
        "colab": {
          "base_uri": "https://localhost:8080/"
        },
        "outputId": "38cd9cb4-f983-4a52-9358-9832cbca994a"
      },
      "outputs": [
        {
          "output_type": "stream",
          "name": "stdout",
          "text": [
            "Epoch 1/100\n",
            "100/100 [==============================] - 73s 590ms/step - loss: 5.2699 - masked_acc: 0.2236 - masked_loss: 5.2699 - val_loss: 3.9249 - val_masked_acc: 0.3613 - val_masked_loss: 3.9249\n",
            "Epoch 2/100\n",
            "100/100 [==============================] - 54s 541ms/step - loss: 3.5170 - masked_acc: 0.4136 - masked_loss: 3.5170 - val_loss: 3.2557 - val_masked_acc: 0.4542 - val_masked_loss: 3.2557\n",
            "Epoch 3/100\n",
            "100/100 [==============================] - 49s 493ms/step - loss: 3.0680 - masked_acc: 0.4779 - masked_loss: 3.0680 - val_loss: 2.9382 - val_masked_acc: 0.4974 - val_masked_loss: 2.9382\n",
            "Epoch 4/100\n",
            "100/100 [==============================] - 46s 465ms/step - loss: 2.7824 - masked_acc: 0.5208 - masked_loss: 2.7824 - val_loss: 2.6698 - val_masked_acc: 0.5397 - val_masked_loss: 2.6698\n",
            "Epoch 5/100\n",
            "100/100 [==============================] - 47s 472ms/step - loss: 2.4928 - masked_acc: 0.5668 - masked_loss: 2.4928 - val_loss: 2.3673 - val_masked_acc: 0.5906 - val_masked_loss: 2.3673\n",
            "Epoch 6/100\n",
            "100/100 [==============================] - 44s 440ms/step - loss: 2.2134 - masked_acc: 0.6183 - masked_loss: 2.2134 - val_loss: 2.0811 - val_masked_acc: 0.6442 - val_masked_loss: 2.0811\n",
            "Epoch 7/100\n",
            "100/100 [==============================] - 42s 422ms/step - loss: 1.9354 - masked_acc: 0.6678 - masked_loss: 1.9354 - val_loss: 1.8380 - val_masked_acc: 0.6826 - val_masked_loss: 1.8380\n",
            "Epoch 8/100\n",
            "100/100 [==============================] - 41s 411ms/step - loss: 1.8008 - masked_acc: 0.6888 - masked_loss: 1.8008 - val_loss: 1.7333 - val_masked_acc: 0.7033 - val_masked_loss: 1.7333\n",
            "Epoch 9/100\n",
            "100/100 [==============================] - 40s 398ms/step - loss: 1.5647 - masked_acc: 0.7143 - masked_loss: 1.5647 - val_loss: 1.7334 - val_masked_acc: 0.7016 - val_masked_loss: 1.7334\n",
            "Epoch 10/100\n",
            "100/100 [==============================] - 41s 410ms/step - loss: 1.4241 - masked_acc: 0.7298 - masked_loss: 1.4241 - val_loss: 1.6293 - val_masked_acc: 0.7224 - val_masked_loss: 1.6293\n",
            "Epoch 11/100\n",
            "100/100 [==============================] - 40s 406ms/step - loss: 1.4367 - masked_acc: 0.7289 - masked_loss: 1.4367 - val_loss: 1.6032 - val_masked_acc: 0.7202 - val_masked_loss: 1.6032\n",
            "Epoch 12/100\n",
            "100/100 [==============================] - 40s 405ms/step - loss: 1.3878 - masked_acc: 0.7388 - masked_loss: 1.3878 - val_loss: 1.5562 - val_masked_acc: 0.7286 - val_masked_loss: 1.5562\n",
            "Epoch 13/100\n",
            "100/100 [==============================] - 41s 407ms/step - loss: 1.3697 - masked_acc: 0.7403 - masked_loss: 1.3697 - val_loss: 1.5525 - val_masked_acc: 0.7283 - val_masked_loss: 1.5525\n",
            "Epoch 14/100\n",
            "100/100 [==============================] - 39s 390ms/step - loss: 1.3635 - masked_acc: 0.7434 - masked_loss: 1.3635 - val_loss: 1.4950 - val_masked_acc: 0.7384 - val_masked_loss: 1.4950\n",
            "Epoch 15/100\n",
            "100/100 [==============================] - 38s 382ms/step - loss: 1.3551 - masked_acc: 0.7453 - masked_loss: 1.3551 - val_loss: 1.5191 - val_masked_acc: 0.7349 - val_masked_loss: 1.5191\n",
            "Epoch 16/100\n",
            "100/100 [==============================] - 39s 395ms/step - loss: 1.3070 - masked_acc: 0.7531 - masked_loss: 1.3070 - val_loss: 1.4001 - val_masked_acc: 0.7541 - val_masked_loss: 1.4001\n",
            "Epoch 17/100\n",
            "100/100 [==============================] - 40s 400ms/step - loss: 1.2263 - masked_acc: 0.7592 - masked_loss: 1.2263 - val_loss: 1.4333 - val_masked_acc: 0.7491 - val_masked_loss: 1.4333\n",
            "Epoch 18/100\n",
            "100/100 [==============================] - 40s 395ms/step - loss: 0.9813 - masked_acc: 0.7921 - masked_loss: 0.9813 - val_loss: 1.5196 - val_masked_acc: 0.7385 - val_masked_loss: 1.5196\n",
            "Epoch 19/100\n",
            "100/100 [==============================] - 39s 390ms/step - loss: 0.9989 - masked_acc: 0.7891 - masked_loss: 0.9989 - val_loss: 1.4772 - val_masked_acc: 0.7460 - val_masked_loss: 1.4772\n",
            "Epoch 20/100\n",
            "100/100 [==============================] - 40s 404ms/step - loss: 1.0328 - masked_acc: 0.7839 - masked_loss: 1.0328 - val_loss: 1.5546 - val_masked_acc: 0.7336 - val_masked_loss: 1.5546\n",
            "Epoch 21/100\n",
            "100/100 [==============================] - 39s 392ms/step - loss: 1.0954 - masked_acc: 0.7752 - masked_loss: 1.0954 - val_loss: 1.4690 - val_masked_acc: 0.7472 - val_masked_loss: 1.4690\n",
            "Epoch 22/100\n",
            "100/100 [==============================] - 40s 397ms/step - loss: 1.0453 - masked_acc: 0.7827 - masked_loss: 1.0453 - val_loss: 1.4399 - val_masked_acc: 0.7510 - val_masked_loss: 1.4399\n",
            "Epoch 23/100\n",
            "100/100 [==============================] - 38s 384ms/step - loss: 1.0537 - masked_acc: 0.7822 - masked_loss: 1.0537 - val_loss: 1.4393 - val_masked_acc: 0.7486 - val_masked_loss: 1.4393\n",
            "Epoch 24/100\n",
            "100/100 [==============================] - 39s 389ms/step - loss: 1.0673 - masked_acc: 0.7800 - masked_loss: 1.0673 - val_loss: 1.4029 - val_masked_acc: 0.7574 - val_masked_loss: 1.4029\n",
            "Epoch 25/100\n",
            "100/100 [==============================] - 40s 395ms/step - loss: 1.0413 - masked_acc: 0.7846 - masked_loss: 1.0413 - val_loss: 1.4192 - val_masked_acc: 0.7517 - val_masked_loss: 1.4192\n",
            "Epoch 26/100\n",
            "100/100 [==============================] - 40s 401ms/step - loss: 0.7774 - masked_acc: 0.8266 - masked_loss: 0.7774 - val_loss: 1.4890 - val_masked_acc: 0.7499 - val_masked_loss: 1.4890\n",
            "Epoch 27/100\n",
            "100/100 [==============================] - 38s 384ms/step - loss: 0.7950 - masked_acc: 0.8233 - masked_loss: 0.7950 - val_loss: 1.4759 - val_masked_acc: 0.7473 - val_masked_loss: 1.4759\n",
            "Epoch 28/100\n",
            "100/100 [==============================] - 40s 395ms/step - loss: 0.8172 - masked_acc: 0.8180 - masked_loss: 0.8172 - val_loss: 1.4493 - val_masked_acc: 0.7559 - val_masked_loss: 1.4493\n",
            "Epoch 29/100\n",
            "100/100 [==============================] - 39s 386ms/step - loss: 0.8430 - masked_acc: 0.8138 - masked_loss: 0.8430 - val_loss: 1.4736 - val_masked_acc: 0.7547 - val_masked_loss: 1.4736\n",
            "Epoch 30/100\n",
            "100/100 [==============================] - 39s 391ms/step - loss: 0.8738 - masked_acc: 0.8080 - masked_loss: 0.8738 - val_loss: 1.4562 - val_masked_acc: 0.7540 - val_masked_loss: 1.4562\n",
            "Epoch 31/100\n",
            "100/100 [==============================] - 39s 388ms/step - loss: 0.8667 - masked_acc: 0.8101 - masked_loss: 0.8667 - val_loss: 1.3880 - val_masked_acc: 0.7648 - val_masked_loss: 1.3880\n",
            "Epoch 32/100\n",
            "100/100 [==============================] - 38s 383ms/step - loss: 0.8800 - masked_acc: 0.8073 - masked_loss: 0.8800 - val_loss: 1.3885 - val_masked_acc: 0.7693 - val_masked_loss: 1.3885\n",
            "Epoch 33/100\n",
            "100/100 [==============================] - 39s 385ms/step - loss: 0.8871 - masked_acc: 0.8073 - masked_loss: 0.8871 - val_loss: 1.5070 - val_masked_acc: 0.7508 - val_masked_loss: 1.5070\n",
            "Epoch 34/100\n",
            "100/100 [==============================] - 39s 393ms/step - loss: 0.7022 - masked_acc: 0.8417 - masked_loss: 0.7022 - val_loss: 1.5728 - val_masked_acc: 0.7473 - val_masked_loss: 1.5728\n",
            "Epoch 35/100\n",
            "100/100 [==============================] - 39s 387ms/step - loss: 0.6703 - masked_acc: 0.8467 - masked_loss: 0.6703 - val_loss: 1.5668 - val_masked_acc: 0.7406 - val_masked_loss: 1.5668\n",
            "Epoch 36/100\n",
            "100/100 [==============================] - 38s 384ms/step - loss: 0.6904 - masked_acc: 0.8415 - masked_loss: 0.6904 - val_loss: 1.5193 - val_masked_acc: 0.7527 - val_masked_loss: 1.5193\n",
            "Epoch 37/100\n",
            "100/100 [==============================] - 39s 389ms/step - loss: 0.7015 - masked_acc: 0.8403 - masked_loss: 0.7015 - val_loss: 1.6277 - val_masked_acc: 0.7388 - val_masked_loss: 1.6277\n",
            "Epoch 38/100\n",
            "100/100 [==============================] - 39s 385ms/step - loss: 0.7254 - masked_acc: 0.8339 - masked_loss: 0.7254 - val_loss: 1.4908 - val_masked_acc: 0.7591 - val_masked_loss: 1.4908\n",
            "Epoch 39/100\n",
            "100/100 [==============================] - 39s 389ms/step - loss: 0.7388 - masked_acc: 0.8323 - masked_loss: 0.7388 - val_loss: 1.5646 - val_masked_acc: 0.7485 - val_masked_loss: 1.5646\n",
            "Epoch 40/100\n",
            "100/100 [==============================] - 39s 390ms/step - loss: 0.7550 - masked_acc: 0.8283 - masked_loss: 0.7550 - val_loss: 1.4657 - val_masked_acc: 0.7608 - val_masked_loss: 1.4657\n",
            "Epoch 41/100\n",
            "100/100 [==============================] - 39s 388ms/step - loss: 0.7476 - masked_acc: 0.8308 - masked_loss: 0.7476 - val_loss: 1.6209 - val_masked_acc: 0.7433 - val_masked_loss: 1.6209\n",
            "Epoch 42/100\n",
            "100/100 [==============================] - 39s 385ms/step - loss: 0.6771 - masked_acc: 0.8451 - masked_loss: 0.6771 - val_loss: 1.5458 - val_masked_acc: 0.7567 - val_masked_loss: 1.5458\n",
            "Epoch 43/100\n",
            "100/100 [==============================] - 40s 395ms/step - loss: 0.5701 - masked_acc: 0.8667 - masked_loss: 0.5701 - val_loss: 1.5829 - val_masked_acc: 0.7577 - val_masked_loss: 1.5829\n",
            "Epoch 44/100\n",
            "100/100 [==============================] - 39s 391ms/step - loss: 0.5793 - masked_acc: 0.8651 - masked_loss: 0.5793 - val_loss: 1.6188 - val_masked_acc: 0.7497 - val_masked_loss: 1.6188\n",
            "Epoch 45/100\n",
            "100/100 [==============================] - 38s 385ms/step - loss: 0.6032 - masked_acc: 0.8591 - masked_loss: 0.6032 - val_loss: 1.5589 - val_masked_acc: 0.7584 - val_masked_loss: 1.5589\n",
            "Epoch 46/100\n",
            "100/100 [==============================] - 38s 385ms/step - loss: 0.6360 - masked_acc: 0.8513 - masked_loss: 0.6360 - val_loss: 1.5534 - val_masked_acc: 0.7573 - val_masked_loss: 1.5534\n",
            "Epoch 47/100\n",
            "100/100 [==============================] - 38s 383ms/step - loss: 0.6344 - masked_acc: 0.8524 - masked_loss: 0.6344 - val_loss: 1.5979 - val_masked_acc: 0.7543 - val_masked_loss: 1.5979\n",
            "Epoch 48/100\n",
            "100/100 [==============================] - 39s 391ms/step - loss: 0.6393 - masked_acc: 0.8522 - masked_loss: 0.6393 - val_loss: 1.5509 - val_masked_acc: 0.7589 - val_masked_loss: 1.5509\n",
            "Epoch 49/100\n",
            "100/100 [==============================] - 38s 377ms/step - loss: 0.6564 - masked_acc: 0.8480 - masked_loss: 0.6564 - val_loss: 1.4452 - val_masked_acc: 0.7726 - val_masked_loss: 1.4452\n",
            "Epoch 50/100\n",
            "100/100 [==============================] - 38s 383ms/step - loss: 0.6407 - masked_acc: 0.8520 - masked_loss: 0.6407 - val_loss: 1.5618 - val_masked_acc: 0.7642 - val_masked_loss: 1.5618\n",
            "Epoch 51/100\n",
            "100/100 [==============================] - 38s 376ms/step - loss: 0.4954 - masked_acc: 0.8825 - masked_loss: 0.4954 - val_loss: 1.6290 - val_masked_acc: 0.7509 - val_masked_loss: 1.6290\n",
            "Epoch 52/100\n",
            "100/100 [==============================] - 39s 384ms/step - loss: 0.5139 - masked_acc: 0.8792 - masked_loss: 0.5139 - val_loss: 1.6652 - val_masked_acc: 0.7531 - val_masked_loss: 1.6652\n",
            "Epoch 53/100\n",
            "100/100 [==============================] - 38s 384ms/step - loss: 0.5235 - masked_acc: 0.8775 - masked_loss: 0.5235 - val_loss: 1.5338 - val_masked_acc: 0.7651 - val_masked_loss: 1.5338\n",
            "Epoch 54/100\n",
            "100/100 [==============================] - 38s 381ms/step - loss: 0.5366 - masked_acc: 0.8742 - masked_loss: 0.5366 - val_loss: 1.6473 - val_masked_acc: 0.7538 - val_masked_loss: 1.6473\n",
            "Epoch 55/100\n",
            "100/100 [==============================] - 39s 386ms/step - loss: 0.5451 - masked_acc: 0.8718 - masked_loss: 0.5451 - val_loss: 1.5646 - val_masked_acc: 0.7618 - val_masked_loss: 1.5646\n",
            "Epoch 56/100\n",
            "100/100 [==============================] - 38s 383ms/step - loss: 0.5655 - masked_acc: 0.8667 - masked_loss: 0.5655 - val_loss: 1.7173 - val_masked_acc: 0.7469 - val_masked_loss: 1.7173\n",
            "Epoch 57/100\n",
            "100/100 [==============================] - 38s 378ms/step - loss: 0.5825 - masked_acc: 0.8626 - masked_loss: 0.5825 - val_loss: 1.6225 - val_masked_acc: 0.7553 - val_masked_loss: 1.6225\n",
            "Epoch 58/100\n",
            "100/100 [==============================] - 39s 393ms/step - loss: 0.5927 - masked_acc: 0.8606 - masked_loss: 0.5927 - val_loss: 1.6485 - val_masked_acc: 0.7543 - val_masked_loss: 1.6485\n",
            "Epoch 59/100\n",
            "100/100 [==============================] - 38s 378ms/step - loss: 0.4609 - masked_acc: 0.8914 - masked_loss: 0.4609 - val_loss: 1.5919 - val_masked_acc: 0.7627 - val_masked_loss: 1.5919\n",
            "Epoch 60/100\n",
            "100/100 [==============================] - 37s 374ms/step - loss: 0.4561 - masked_acc: 0.8920 - masked_loss: 0.4561 - val_loss: 1.6588 - val_masked_acc: 0.7619 - val_masked_loss: 1.6588\n",
            "Epoch 61/100\n",
            "100/100 [==============================] - 39s 390ms/step - loss: 0.4600 - masked_acc: 0.8918 - masked_loss: 0.4600 - val_loss: 1.6688 - val_masked_acc: 0.7622 - val_masked_loss: 1.6688\n",
            "Epoch 62/100\n",
            "100/100 [==============================] - 38s 384ms/step - loss: 0.5482 - masked_acc: 0.8763 - masked_loss: 0.5482 - val_loss: 1.7254 - val_masked_acc: 0.7454 - val_masked_loss: 1.7254\n",
            "Epoch 63/100\n",
            "100/100 [==============================] - 38s 383ms/step - loss: 0.5053 - masked_acc: 0.8808 - masked_loss: 0.5053 - val_loss: 1.7280 - val_masked_acc: 0.7477 - val_masked_loss: 1.7280\n",
            "Epoch 64/100\n",
            "100/100 [==============================] - 39s 386ms/step - loss: 0.5054 - masked_acc: 0.8796 - masked_loss: 0.5054 - val_loss: 1.6565 - val_masked_acc: 0.7566 - val_masked_loss: 1.6565\n",
            "Epoch 65/100\n",
            "100/100 [==============================] - 39s 388ms/step - loss: 0.5187 - masked_acc: 0.8766 - masked_loss: 0.5187 - val_loss: 1.7518 - val_masked_acc: 0.7448 - val_masked_loss: 1.7518\n",
            "Epoch 66/100\n",
            "100/100 [==============================] - 38s 382ms/step - loss: 0.5251 - masked_acc: 0.8759 - masked_loss: 0.5251 - val_loss: 1.6828 - val_masked_acc: 0.7591 - val_masked_loss: 1.6828\n",
            "Epoch 67/100\n",
            "100/100 [==============================] - 38s 378ms/step - loss: 0.4563 - masked_acc: 0.8918 - masked_loss: 0.4563 - val_loss: 1.6592 - val_masked_acc: 0.7652 - val_masked_loss: 1.6592\n",
            "Epoch 68/100\n",
            "100/100 [==============================] - 38s 385ms/step - loss: 0.4956 - masked_acc: 0.8891 - masked_loss: 0.4956 - val_loss: 1.8148 - val_masked_acc: 0.7500 - val_masked_loss: 1.8148\n",
            "Epoch 69/100\n",
            "100/100 [==============================] - 38s 383ms/step - loss: 0.4259 - masked_acc: 0.8990 - masked_loss: 0.4259 - val_loss: 1.7443 - val_masked_acc: 0.7509 - val_masked_loss: 1.7443\n",
            "Epoch 70/100\n",
            "100/100 [==============================] - 39s 389ms/step - loss: 0.4483 - masked_acc: 0.8929 - masked_loss: 0.4483 - val_loss: 1.6949 - val_masked_acc: 0.7654 - val_masked_loss: 1.6949\n",
            "Epoch 71/100\n",
            "100/100 [==============================] - 39s 389ms/step - loss: 0.4484 - masked_acc: 0.8932 - masked_loss: 0.4484 - val_loss: 1.6797 - val_masked_acc: 0.7574 - val_masked_loss: 1.6797\n",
            "Epoch 72/100\n",
            "100/100 [==============================] - 37s 374ms/step - loss: 0.4635 - masked_acc: 0.8901 - masked_loss: 0.4635 - val_loss: 1.8555 - val_masked_acc: 0.7428 - val_masked_loss: 1.8555\n",
            "Epoch 73/100\n",
            "100/100 [==============================] - 38s 380ms/step - loss: 0.4706 - masked_acc: 0.8876 - masked_loss: 0.4706 - val_loss: 1.7852 - val_masked_acc: 0.7464 - val_masked_loss: 1.7852\n",
            "Epoch 74/100\n",
            "100/100 [==============================] - 38s 379ms/step - loss: 0.4664 - masked_acc: 0.8885 - masked_loss: 0.4664 - val_loss: 1.8818 - val_masked_acc: 0.7439 - val_masked_loss: 1.8818\n",
            "Epoch 75/100\n",
            "100/100 [==============================] - 38s 384ms/step - loss: 0.4465 - masked_acc: 0.8928 - masked_loss: 0.4465 - val_loss: 1.7682 - val_masked_acc: 0.7511 - val_masked_loss: 1.7682\n",
            "Epoch 76/100\n",
            "100/100 [==============================] - 39s 393ms/step - loss: 0.3707 - masked_acc: 0.9128 - masked_loss: 0.3707 - val_loss: 1.8257 - val_masked_acc: 0.7562 - val_masked_loss: 1.8257\n",
            "Epoch 77/100\n",
            "100/100 [==============================] - 38s 382ms/step - loss: 0.3706 - masked_acc: 0.9127 - masked_loss: 0.3706 - val_loss: 1.7582 - val_masked_acc: 0.7589 - val_masked_loss: 1.7582\n",
            "Epoch 78/100\n",
            "100/100 [==============================] - 38s 381ms/step - loss: 0.3795 - masked_acc: 0.9106 - masked_loss: 0.3795 - val_loss: 1.8609 - val_masked_acc: 0.7454 - val_masked_loss: 1.8609\n",
            "Epoch 79/100\n",
            "100/100 [==============================] - 38s 382ms/step - loss: 0.3965 - masked_acc: 0.9050 - masked_loss: 0.3965 - val_loss: 1.8085 - val_masked_acc: 0.7559 - val_masked_loss: 1.8085\n",
            "Epoch 80/100\n",
            "100/100 [==============================] - 38s 383ms/step - loss: 0.4136 - masked_acc: 0.9019 - masked_loss: 0.4136 - val_loss: 1.6019 - val_masked_acc: 0.7738 - val_masked_loss: 1.6019\n",
            "Epoch 81/100\n",
            "100/100 [==============================] - 39s 385ms/step - loss: 0.4293 - masked_acc: 0.8975 - masked_loss: 0.4293 - val_loss: 1.8109 - val_masked_acc: 0.7542 - val_masked_loss: 1.8109\n",
            "Epoch 82/100\n",
            "100/100 [==============================] - 37s 369ms/step - loss: 0.4318 - masked_acc: 0.8978 - masked_loss: 0.4318 - val_loss: 1.7960 - val_masked_acc: 0.7579 - val_masked_loss: 1.7960\n",
            "Epoch 83/100\n",
            "100/100 [==============================] - 39s 388ms/step - loss: 0.4502 - masked_acc: 0.8926 - masked_loss: 0.4502 - val_loss: 1.8018 - val_masked_acc: 0.7597 - val_masked_loss: 1.8018\n",
            "Epoch 84/100\n",
            "100/100 [==============================] - 39s 387ms/step - loss: 0.3618 - masked_acc: 0.9148 - masked_loss: 0.3618 - val_loss: 1.9378 - val_masked_acc: 0.7466 - val_masked_loss: 1.9378\n",
            "Epoch 85/100\n",
            "100/100 [==============================] - 39s 386ms/step - loss: 0.3642 - masked_acc: 0.9140 - masked_loss: 0.3642 - val_loss: 1.8438 - val_masked_acc: 0.7593 - val_masked_loss: 1.8438\n",
            "Epoch 86/100\n",
            "100/100 [==============================] - 39s 386ms/step - loss: 0.3619 - masked_acc: 0.9139 - masked_loss: 0.3619 - val_loss: 1.7828 - val_masked_acc: 0.7639 - val_masked_loss: 1.7828\n",
            "Epoch 87/100\n",
            "100/100 [==============================] - 39s 390ms/step - loss: 0.3760 - masked_acc: 0.9108 - masked_loss: 0.3760 - val_loss: 1.9385 - val_masked_acc: 0.7515 - val_masked_loss: 1.9385\n",
            "Epoch 88/100\n",
            "100/100 [==============================] - 38s 374ms/step - loss: 0.3858 - masked_acc: 0.9086 - masked_loss: 0.3858 - val_loss: 1.9261 - val_masked_acc: 0.7496 - val_masked_loss: 1.9261\n",
            "Epoch 89/100\n",
            "100/100 [==============================] - 38s 380ms/step - loss: 0.3989 - masked_acc: 0.9046 - masked_loss: 0.3989 - val_loss: 1.7820 - val_masked_acc: 0.7633 - val_masked_loss: 1.7820\n",
            "Epoch 90/100\n",
            "100/100 [==============================] - 38s 381ms/step - loss: 0.4050 - masked_acc: 0.9033 - masked_loss: 0.4050 - val_loss: 1.8459 - val_masked_acc: 0.7609 - val_masked_loss: 1.8459\n",
            "Epoch 91/100\n",
            "100/100 [==============================] - 38s 378ms/step - loss: 0.3991 - masked_acc: 0.9046 - masked_loss: 0.3991 - val_loss: 1.8527 - val_masked_acc: 0.7576 - val_masked_loss: 1.8527\n",
            "Epoch 92/100\n",
            "100/100 [==============================] - 38s 382ms/step - loss: 0.3592 - masked_acc: 0.9143 - masked_loss: 0.3592 - val_loss: 2.1194 - val_masked_acc: 0.7382 - val_masked_loss: 2.1194\n",
            "Epoch 93/100\n",
            "100/100 [==============================] - 39s 387ms/step - loss: 0.3370 - masked_acc: 0.9204 - masked_loss: 0.3370 - val_loss: 1.8721 - val_masked_acc: 0.7590 - val_masked_loss: 1.8721\n",
            "Epoch 94/100\n",
            "100/100 [==============================] - 39s 392ms/step - loss: 0.3425 - masked_acc: 0.9186 - masked_loss: 0.3425 - val_loss: 1.8853 - val_masked_acc: 0.7593 - val_masked_loss: 1.8853\n",
            "Epoch 95/100\n",
            "100/100 [==============================] - 38s 384ms/step - loss: 0.3516 - masked_acc: 0.9166 - masked_loss: 0.3516 - val_loss: 1.9898 - val_masked_acc: 0.7509 - val_masked_loss: 1.9898\n",
            "Epoch 96/100\n",
            "100/100 [==============================] - 38s 381ms/step - loss: 0.3648 - masked_acc: 0.9127 - masked_loss: 0.3648 - val_loss: 1.8553 - val_masked_acc: 0.7620 - val_masked_loss: 1.8553\n",
            "Epoch 97/100\n",
            "100/100 [==============================] - 38s 383ms/step - loss: 0.3764 - masked_acc: 0.9102 - masked_loss: 0.3764 - val_loss: 2.0321 - val_masked_acc: 0.7410 - val_masked_loss: 2.0321\n",
            "Epoch 98/100\n",
            "100/100 [==============================] - 38s 384ms/step - loss: 0.3821 - masked_acc: 0.9081 - masked_loss: 0.3821 - val_loss: 1.8045 - val_masked_acc: 0.7634 - val_masked_loss: 1.8045\n",
            "Epoch 99/100\n",
            "100/100 [==============================] - 37s 373ms/step - loss: 0.3916 - masked_acc: 0.9054 - masked_loss: 0.3916 - val_loss: 1.9830 - val_masked_acc: 0.7467 - val_masked_loss: 1.9830\n",
            "Epoch 100/100\n",
            "100/100 [==============================] - 38s 382ms/step - loss: 0.3714 - masked_acc: 0.9116 - masked_loss: 0.3714 - val_loss: 2.0547 - val_masked_acc: 0.7438 - val_masked_loss: 2.0547\n"
          ]
        }
      ],
      "source": [
        "history = model.fit(\n",
        "    train_ds.repeat(), \n",
        "    epochs=100, # 100\n",
        "    steps_per_epoch = 100, # 100\n",
        "    validation_data=val_ds,\n",
        "    validation_steps = 20,\n",
        "    callbacks=None)\n"
      ]
    },
    {
      "cell_type": "code",
      "execution_count": null,
      "metadata": {
        "id": "38rLdlmtQHCm",
        "colab": {
          "base_uri": "https://localhost:8080/",
          "height": 466
        },
        "outputId": "b4a67dcf-6786-4837-d309-36fa3f0ed3dc"
      },
      "outputs": [
        {
          "output_type": "execute_result",
          "data": {
            "text/plain": [
              "<matplotlib.legend.Legend at 0x7fa701dacfa0>"
            ]
          },
          "metadata": {},
          "execution_count": 41
        },
        {
          "output_type": "display_data",
          "data": {
            "text/plain": [
              "<Figure size 640x480 with 1 Axes>"
            ],
            "image/png": "[encoded data removed]"
          },
          "metadata": {}
        }
      ],
      "source": [
        "plt.plot(history.history['loss'], label='loss')\n",
        "plt.plot(history.history['val_loss'], label='val_loss')\n",
        "plt.ylim([0, max(plt.ylim())])\n",
        "plt.xlabel('Epoch #')\n",
        "plt.ylabel('CE/token')\n",
        "plt.legend()"
      ]
    },
    {
      "cell_type": "code",
      "execution_count": null,
      "metadata": {
        "id": "KkhXRASNG80_",
        "colab": {
          "base_uri": "https://localhost:8080/",
          "height": 466
        },
        "outputId": "3756d97d-1aa5-4efb-e81b-3167171c5821"
      },
      "outputs": [
        {
          "output_type": "execute_result",
          "data": {
            "text/plain": [
              "<matplotlib.legend.Legend at 0x7fa70067cd90>"
            ]
          },
          "metadata": {},
          "execution_count": 42
        },
        {
          "output_type": "display_data",
          "data": {
            "text/plain": [
              "<Figure size 640x480 with 1 Axes>"
            ],
            "image/png": "[encoded data removed]"
          },
          "metadata": {}
        }
      ],
      "source": [
        "plt.plot(history.history['masked_acc'], label='accuracy')\n",
        "plt.plot(history.history['val_masked_acc'], label='val_accuracy')\n",
        "plt.ylim([0, max(plt.ylim())])\n",
        "plt.xlabel('Epoch #')\n",
        "plt.ylabel('CE/token')\n",
        "plt.legend()"
      ]
    },
    {
      "cell_type": "markdown",
      "metadata": {
        "id": "mU3Ce8M6I3rz"
      },
      "source": [
        "**MÉTODO DE TRADUÇÃO**"
      ]
    },
    {
      "cell_type": "code",
      "execution_count": null,
      "metadata": {
        "id": "mmgYPCVgEwp_"
      },
      "outputs": [],
      "source": [
        "#@title\n",
        "@Translator.add_method\n",
        "def translate(self,\n",
        "              texts, *,\n",
        "              max_length=512,\n",
        "              temperature=0.0):\n",
        "  # Process the input texts\n",
        "  context = self.encoder.convert_input(texts)\n",
        "  batch_size = tf.shape(texts)[0]\n",
        "\n",
        "  # Setup the loop inputs\n",
        "  tokens = []\n",
        "  attention_weights = []\n",
        "  next_token, done, state = self.decoder.get_initial_state(context)\n",
        "\n",
        "  for _ in range(max_length):\n",
        "    # Generate the next token\n",
        "    next_token, done, state = self.decoder.get_next_token(\n",
        "        context, next_token, done,  state, temperature)\n",
        "        \n",
        "    # Collect the generated tokens\n",
        "    tokens.append(next_token)\n",
        "    attention_weights.append(self.decoder.last_attention_weights)\n",
        "    \n",
        "    if tf.executing_eagerly() and tf.reduce_all(done):\n",
        "      break\n",
        "\n",
        "  # Stack the lists of tokens and attention weights.\n",
        "  tokens = tf.concat(tokens, axis=-1)   # t*[(batch 1)] -> (batch, t)\n",
        "  self.last_attention_weights = tf.concat(attention_weights, axis=1)  # t*[(batch 1 s)] -> (batch, t s)\n",
        "\n",
        "  result = self.decoder.tokens_to_text(tokens)\n",
        "  return result"
      ]
    },
    {
      "cell_type": "markdown",
      "source": [
        "**TESTE DE TRADUÇÃO CONFORME TREINAMENTO REALIZADO**"
      ],
      "metadata": {
        "id": "OZdu-nkVyj5Y"
      }
    },
    {
      "cell_type": "code",
      "execution_count": null,
      "metadata": {
        "id": "E5hqvbR5FUCD",
        "colab": {
          "base_uri": "https://localhost:8080/",
          "height": 35
        },
        "outputId": "60601b45-c137-4d9c-f205-9a677ad1d783"
      },
      "outputs": [
        {
          "output_type": "execute_result",
          "data": {
            "text/plain": [
              "'embargos de declaracao inocorrencia de contradicao , obscuridade ou omissao imposicao . '"
            ],
            "application/vnd.google.colaboratory.intrinsic+json": {
              "type": "string"
            }
          },
          "metadata": {},
          "execution_count": 44
        }
      ],
      "source": [
        "result = model.translate(['EMBARGOS DE DECLARAÇÃO - INOCORRÊNCIA DE CONTRADIÇÃO, OBSCURIDADE OU OMISSÃO - PRETENDIDO REEXAME DA CAUSA CARÁTER INFRINGENTE - INADMISSIBILIDADE – EMBARGOS DE DECLARAÇÃO REJEITADOS.']) # Are you still home\n",
        "result[0].numpy().decode()"
      ]
    },
    {
      "cell_type": "markdown",
      "source": [
        "**SIMPLIFICAÇÃO DAS EMENTAS DO TRF5 E STF**"
      ],
      "metadata": {
        "id": "lhofu8GRpZgL"
      }
    },
    {
      "cell_type": "code",
      "source": [
        "import glob\n",
        "import natsort\n",
        "\n",
        "path_origem_stf = path + 'ementas/STF'\n",
        "path_destino_stf = path + 'ementas/GERADAS/STF'\n",
        "path_origem_trf5 = path + 'ementas/TRF5'\n",
        "path_destino_trf5 = path + 'ementas/GERADAS/TRF5'\n",
        "\n",
        "def simplify_ementas(files_sentences, path_origem, path_destino):\n",
        "    for file in files_sentences:\n",
        "        with open(file, 'r') as f:\n",
        "            lines_ementa_aux = f.readlines()\n",
        "\n",
        "            lines_ementa = []\n",
        "\n",
        "            for line_aux in lines_ementa_aux:\n",
        "                line_aux.replace(\"\\n\",\"\")             \n",
        "                lines_ementa.append(line_aux)\n",
        "\n",
        "            result = model.translate(lines_ementa)\n",
        "            \n",
        "            sentences_ts = ''\n",
        "            sentences_sp = ''\n",
        "            for line in result:\n",
        "                line_final = line.numpy().decode()\n",
        "                line_final = line_final.replace('[UNK]', '')\n",
        "                line_final = line_final.replace(' , ,','')\n",
        "                line_final = line_final.replace(' , ',', ')\n",
        "                line_final = line_final.replace(' .','.')\n",
        "                line_final = line_final.strip()\n",
        "                line_final_sp = line_final\n",
        "                sentences_ts = sentences_ts + line_final + \"\\n\"\n",
        "                sentences_sp = sentences_sp + line_final_sp + \" \"\n",
        "\n",
        "            file_ts = file.replace(\".pt\", \".ts\")\n",
        "            file_sp = file.replace(\".pt\", \".sp\")\n",
        "            file_ts = file_ts.replace(path_origem, path_destino)\n",
        "            file_sp = file_sp.replace(path_origem, path_destino)\n",
        "            \n",
        "            with open(file_ts, 'w') as fw_ts:\n",
        "                fw_ts.write(sentences_ts)\n",
        "\n",
        "            with open(file_sp, 'w') as fw_sp:\n",
        "                fw_sp.write(sentences_sp)"
      ],
      "metadata": {
        "id": "zfX-c316ncx8"
      },
      "execution_count": null,
      "outputs": []
    },
    {
      "cell_type": "code",
      "source": [
        "# STF\n",
        "files_sentences_stf = []\n",
        "for file in glob.glob(path_origem_stf + '/*.pt'):\n",
        "    files_sentences_stf.append(file)\n",
        "files_sentences_stf = natsort.natsorted(files_sentences_stf)\n",
        "simplify_ementas(files_sentences_stf, path_origem_stf, path_destino_stf)\n",
        "\n",
        "#TRF5\n",
        "files_sentences_trf5 = []\n",
        "for file in glob.glob(path_origem_trf5 + '/*.pt'):\n",
        "    files_sentences_trf5.append(file)\n",
        "files_sentences_trf5 = natsort.natsorted(files_sentences_trf5)\n",
        "simplify_ementas(files_sentences_trf5, path_origem_trf5, path_destino_trf5)\n"
      ],
      "metadata": {
        "id": "7a4irKm4pYm0"
      },
      "execution_count": null,
      "outputs": []
    }
  ],
  "metadata": {
    "accelerator": "GPU",
    "colab": {
      "provenance": [],
      "machine_shape": "hm"
    },
    "kernelspec": {
      "display_name": "Python 3",
      "name": "python3"
    },
    "gpuClass": "standard"
  },
  "nbformat": 4,
  "nbformat_minor": 0
}